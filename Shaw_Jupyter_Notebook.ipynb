{
  "metadata": {
    "kernelspec": {
      "name": "python",
      "display_name": "Pyolite",
      "language": "python"
    },
    "language_info": {
      "codemirror_mode": {
        "name": "python",
        "version": 3
      },
      "file_extension": ".py",
      "mimetype": "text/x-python",
      "name": "python",
      "nbconvert_exporter": "python",
      "pygments_lexer": "ipython3",
      "version": "3.8"
    }
  },
  "nbformat_minor": 4,
  "nbformat": 4,
  "cells": [
    {
      "cell_type": "markdown",
      "source": "<center>\n    <img src=\"https://s3-api.us-geo.objectstorage.softlayer.net/cf-courses-data/CognitiveClass/Logos/organization_logo/organization_logo.png\" width=\"300\" alt=\"cognitiveclass.ai logo\"  />\n</center>\n",
      "metadata": {}
    },
    {
      "cell_type": "markdown",
      "source": "#### Add your code below following the instructions given in the course\n",
      "metadata": {}
    },
    {
      "cell_type": "markdown",
      "source": "# My Jupyter Notebook on IBM Watson Studio",
      "metadata": {}
    },
    {
      "cell_type": "markdown",
      "source": "__Stephen Shaw__  \nMathematics Teacher",
      "metadata": {}
    },
    {
      "cell_type": "markdown",
      "source": "_I am interested in Data Science because I find the insights that can be gained from data to be fascinating. \nI enjoy coding and working with data._",
      "metadata": {}
    },
    {
      "cell_type": "markdown",
      "source": "### The code will print 'This is my first shared Jupyter Notebook'",
      "metadata": {}
    },
    {
      "cell_type": "code",
      "source": "print('This is my first shared Jupyter Notebook')",
      "metadata": {
        "trusted": true
      },
      "execution_count": 1,
      "outputs": [
        {
          "name": "stdout",
          "text": "This is my first shared Jupyter Notebook\n",
          "output_type": "stream"
        }
      ]
    },
    {
      "cell_type": "markdown",
      "source": "This is a list of my family members:\n* Wendy\n* Arthur\n* Holly\n\nMy top three favourite flavours of ice-cream are:\n1. Chocolate\n2. Mint\n3. Coffee\n\nHere is an\n_ _ _\nexample\n_ _ _\nof \n_ _ _\n\nhorizontal rule\n\n[Here is today's weather in Auckland](https://home.nzcity.co.nz/weather/weatherdetail.aspx?wla=3)",
      "metadata": {}
    },
    {
      "cell_type": "code",
      "source": "",
      "metadata": {},
      "execution_count": null,
      "outputs": []
    }
  ]
}